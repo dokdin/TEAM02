{
 "metadata": {
  "language_info": {
   "codemirror_mode": {
    "name": "ipython",
    "version": 3
   },
   "file_extension": ".py",
   "mimetype": "text/x-python",
   "name": "python",
   "nbconvert_exporter": "python",
   "pygments_lexer": "ipython3",
   "version": "3.8.5-final"
  },
  "orig_nbformat": 2,
  "kernelspec": {
   "name": "python3",
   "display_name": "Python 3",
   "language": "python"
  }
 },
 "nbformat": 4,
 "nbformat_minor": 2,
 "cells": [
  {
   "cell_type": "code",
   "execution_count": 2,
   "metadata": {},
   "outputs": [],
   "source": [
    "# 파일불러오기 \n",
    "import urllib.request\n",
    "import requests\n",
    "import urllib3\n",
    "from bs4 import BeautifulSoup\n",
    "import json\n",
    "import re\n",
    "import csv\n",
    "import pandas as pd\n",
    "import os\n",
    "urllib3.disable_warnings()\n"
   ]
  },
  {
   "cell_type": "code",
   "execution_count": 11,
   "metadata": {},
   "outputs": [],
   "source": [
    "url = \"https://dvoucher.kspo.or.kr/course/memberFacilityList.do?menuNo=800002&topMenuNo=800001\"\n",
    "response = requests.post(url, data=payload, headers=header, verify=False)\n"
   ]
  },
  {
   "cell_type": "code",
   "execution_count": 12,
   "metadata": {},
   "outputs": [
    {
     "output_type": "execute_result",
     "data": {
      "text/plain": [
       "<Response [200]>"
      ]
     },
     "metadata": {},
     "execution_count": 12
    }
   ],
   "source": [
    "response"
   ]
  },
  {
   "cell_type": "code",
   "execution_count": 6,
   "metadata": {},
   "outputs": [],
   "source": [
    "# 크롤링 데이터를 저장할 csv파일 생성 \n",
    "f = open('Crawl_1210.csv', 'w', encoding='utf-8-sig', newline='')\n",
    "# csv 파일에 데이터 값 작성\n",
    "wr = csv.writer(f)\n",
    "wr.writerow(['시설명', '대표자', '연락처', '주소', '지도자', '시설면적', '운동종류', '장애종류', '강의명', '시간', '요일', '강사명', '기간', '차량지원', '장애 지원시설', '수강료'])\n",
    "\n",
    "\n",
    "# range = 12월10일기준 페이지수 \n",
    "for i in range(145):\n",
    "    url = \"https://dvoucher.kspo.or.kr/course/memberFacilityList.do?menuNo=800002&topMenuNo=800001\"\n",
    "\n",
    "# Request Headers (해당 웹브라우저 : 웹 개발자도구 - Network - Header 에서 확인가능)\n",
    "\n",
    "    header = {\n",
    "    \"Accept\" : \"text/html,application/xhtml+xml,application/xml;q=0.9,image/avif,image/webp,image/apng,*/*;q=0.8,application/signed-exchange;v=b3;q=0.9\",\n",
    "    \"Accept-Encoding\" : \"gzip, deflate, br\",\n",
    "    \"Accept-Language\" : \"ko-KR,ko;q=0.9,en-US;q=0.8,en;q=0.7\",\n",
    "    \"Cache-Control\" : \"max-age=0\",\n",
    "    \"Connection\" : \"keep-alive\",\n",
    "    \"Content-Length\" : \"241\",\n",
    "    \"Content-Type\" : \"application/x-www-form-urlencoded\",\n",
    "    \"Cookie\" : \"WT_FPC=id=240d3d64699174cab071606975323461:lv=1606975323461:ss=1606975323461; _INSIGHT_CK_1109=ca9e7e12b1af4127ae356fdac25cfaf3_75323|45f25b06c78562667f3b6fdac25cfaf3_75323:1606977723000; WMONID=GZthBgC1NTu; JSESSIONID=xozOOShKUBWsV9f2JuJZgGB7vmY9ckNvsvbi6449iDYmVcoOVsMlVSYE0S2pvoDW.amV1c19kb21haW4vZGFpc3kyX2R2ZnJvbnQx\",\n",
    "    \"Host\" : \"dvoucher.kspo.or.kr\",\n",
    "    \"Origin\" : \"https://dvoucher.kspo.or.kr\",\n",
    "    \"Referer\" : \"https://dvoucher.kspo.or.kr/course/memberFacilityList.do?menuNo=800002&topMenuNo=800001\",\n",
    "    \"User-Agent\" : \"Mozilla/5.0 (Windows NT 10.0; Win64; x64) AppleWebKit/537.36 (KHTML, like Gecko) Chrome/86.0.4240.198 Safari/537.36\"\n",
    "    } \n",
    "\n",
    "    payload = {\n",
    "        \"pageNo\" : i + 1\n",
    "    }\n",
    "\n",
    "    response = requests.post(url, data=payload, headers=header, verify=False)\n",
    "\n",
    "    soup = BeautifulSoup(response.text, 'lxml')\n",
    "\n",
    "    exercise = soup.find_all('button', class_ = 'btn-lec-view btn-type-6')\n",
    "\n",
    "    fac_list = soup.find('ul', class_ = 'fac-info-list')\n",
    "\n",
    "    # 시설명(한 페이지에 존재하는 개수만큼 리스트에 담김)\n",
    "    name = [n.text for n in fac_list.find_all('a', href=True)]\n",
    "\n",
    "    number = re.compile('[0-9]{10}')\n",
    "\n",
    "    # 시설명에 해당하는 식별자(각 시설에서 운영하는 강좌를 긁어올 때 필요)\n",
    "    result = number.findall(str(exercise))\n",
    "\n",
    "    count = 0\n",
    "\n",
    "    for j in result:\n",
    "        url = \"https://dvoucher.kspo.or.kr/course/memberFacilityCourseList.do\"\n",
    "\n",
    "        payload = {\n",
    "            \"bizrno\" : j,\n",
    "            \"alsfcSn\" : 1,\n",
    "            \"listUrl\" : \"/course/memberFacilityListJsonView.do\",\n",
    "            \"detailUrl\" : \"/course/memberFacilityCourseList.do\"\n",
    "        }\n",
    "\n",
    "        res = requests.post(url, data=payload, headers=header, verify=False)\n",
    "\n",
    "        soup = BeautifulSoup(res.text, 'lxml')\n",
    "\n",
    "        # 수강료\n",
    "        try:\n",
    "            fee = soup.find('div', class_ = 'class-ct-right').find('strong').text\n",
    "        except AttributeError:\n",
    "            fee = 0\n",
    "\n",
    "        # 장애 지원 시설\n",
    "        support = [i.text for i in soup.find('tbody').find_all('span')]\n",
    "        support = [i for i in support if i]\n",
    "\n",
    "        # 페이지 상단에 존재하는 시설 상세정보(대표자, 연락처, 주소, 지도자, 시설면적)\n",
    "        info = [ii.text for ii in soup.find('div', class_ = 'fac-det-info').find_all('dd')]\n",
    "\n",
    "        course = soup.find_all(\"dl\", class_ = \"class-ct-left\")\n",
    "\n",
    "        # 강좌들\n",
    "        for i in course:\n",
    "            tag1 = i.find(\"em\", class_ = \"purple\").text # 보라색 태그\n",
    "            tag2 = i.find(\"em\", class_ = \"green\").text # 초록색 태그\n",
    "            title = i.find(\"span\").text # 강좌명\n",
    "            time = i.find_all(\"p\", class_ = \"ff-light\")[0].text # 시간\n",
    "            day = i.find_all(\"p\", class_ = \"ff-light\")[1].text # 요일\n",
    "            teacher = i.find_all(\"p\", class_ = \"ff-light\")[2].text.split() # 강사\n",
    "            enroll = i.find_all(\"p\", class_ = \"ff-light\")[3].text # 신청기간\n",
    "\n",
    "            wr.writerow([name[count], info[0][6:], info[1][6:], info[2][5:],\\\n",
    "                info[3][23:], info[4][7:], tag1, tag2, title, time, day, ','.join(teacher), enroll, support[0], ','.join(support[1:]), fee])\n",
    "                \n",
    "        count += 1\n",
    "\n",
    "        if count == len(name):\n",
    "            count = 0    \n",
    "\n",
    "f.close()\n"
   ]
  },
  {
   "cell_type": "code",
   "execution_count": null,
   "metadata": {},
   "outputs": [],
   "source": []
  }
 ]
}
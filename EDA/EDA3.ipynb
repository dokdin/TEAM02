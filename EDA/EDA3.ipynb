{
 "metadata": {
  "language_info": {
   "codemirror_mode": {
    "name": "ipython",
    "version": 3
   },
   "file_extension": ".py",
   "mimetype": "text/x-python",
   "name": "python",
   "nbconvert_exporter": "python",
   "pygments_lexer": "ipython3",
   "version": "3.8.3-final"
  },
  "orig_nbformat": 2,
  "kernelspec": {
   "name": "python3",
   "display_name": "Python 3"
  }
 },
 "nbformat": 4,
 "nbformat_minor": 2,
 "cells": [
  {
   "cell_type": "code",
   "execution_count": 42,
   "metadata": {},
   "outputs": [],
   "source": [
    "# import the libraries \n",
    "import pandas as pd \n",
    "import seaborn as sns\n",
    "import numpy as np\n",
    "import matplotlib.pyplot as plt\n",
    "import matplotlib as mpl\n",
    "import warnings\n",
    "warnings.filterwarnings('ignore')\n",
    "plt.rc('font',family='Malgun Gothic')\n",
    "plt.rc('axes',unicode_minus=False)\n",
    "df=pd.read_csv('종목별장애인스포츠활성정보.csv',encoding='cp949')"
   ]
  },
  {
   "cell_type": "code",
   "execution_count": 43,
   "metadata": {},
   "outputs": [
    {
     "output_type": "execute_result",
     "data": {
      "text/plain": [
       "Index(['수요운동종목대분류명', '수요운동종목소분류명', '운동경험자주요수요비율', '운동경험자시간여유선호비율',\n",
       "       '운동경험자금전여유선호비율', '비운동경험자종목선호비율', '수요운동종목지수값', '수요운동종목지수순위', '강좌종목명',\n",
       "       '강좌종목수', '강좌종목비율'],\n",
       "      dtype='object')"
      ]
     },
     "metadata": {},
     "execution_count": 43
    }
   ],
   "source": [
    "df.columns"
   ]
  },
  {
   "cell_type": "code",
   "execution_count": 44,
   "metadata": {},
   "outputs": [],
   "source": [
    "# 운동경험자 선호 비율 파생변수 \n",
    "df['운동경험자선호비율']=(df['운동경험자주요수요비율']+df['운동경험자시간여유선호비율'])/2"
   ]
  },
  {
   "cell_type": "code",
   "execution_count": 45,
   "metadata": {},
   "outputs": [],
   "source": [
    "df['운동후선호비율']=(df['운동경험자선호비율']-df['비운동경험자종목선호비율']).round(2)"
   ]
  },
  {
   "cell_type": "code",
   "execution_count": 46,
   "metadata": {},
   "outputs": [],
   "source": [
    "df2=df.loc[:,['수요운동종목소분류명','운동후선호비율']].sort_values('운동후선호비율',ascending=False)"
   ]
  },
  {
   "cell_type": "code",
   "execution_count": 52,
   "metadata": {},
   "outputs": [
    {
     "output_type": "execute_result",
     "data": {
      "text/plain": [
       "        수요운동종목소분류명  운동후선호비율\n",
       "33              수영     3.70\n",
       "41         자전거,사이클     3.05\n",
       "39   보디빌딩(웨이트트레이닝)     2.30\n",
       "38              요가     1.80\n",
       "37            맨손체조     1.40\n",
       "40  체력단련및생활운동_그외종목     1.15\n",
       "17              탁구     0.90"
      ],
      "text/html": "<div>\n<style scoped>\n    .dataframe tbody tr th:only-of-type {\n        vertical-align: middle;\n    }\n\n    .dataframe tbody tr th {\n        vertical-align: top;\n    }\n\n    .dataframe thead th {\n        text-align: right;\n    }\n</style>\n<table border=\"1\" class=\"dataframe\">\n  <thead>\n    <tr style=\"text-align: right;\">\n      <th></th>\n      <th>수요운동종목소분류명</th>\n      <th>운동후선호비율</th>\n    </tr>\n  </thead>\n  <tbody>\n    <tr>\n      <th>33</th>\n      <td>수영</td>\n      <td>3.70</td>\n    </tr>\n    <tr>\n      <th>41</th>\n      <td>자전거,사이클</td>\n      <td>3.05</td>\n    </tr>\n    <tr>\n      <th>39</th>\n      <td>보디빌딩(웨이트트레이닝)</td>\n      <td>2.30</td>\n    </tr>\n    <tr>\n      <th>38</th>\n      <td>요가</td>\n      <td>1.80</td>\n    </tr>\n    <tr>\n      <th>37</th>\n      <td>맨손체조</td>\n      <td>1.40</td>\n    </tr>\n    <tr>\n      <th>40</th>\n      <td>체력단련및생활운동_그외종목</td>\n      <td>1.15</td>\n    </tr>\n    <tr>\n      <th>17</th>\n      <td>탁구</td>\n      <td>0.90</td>\n    </tr>\n  </tbody>\n</table>\n</div>"
     },
     "metadata": {},
     "execution_count": 52
    }
   ],
   "source": [
    "df2.head(7)"
   ]
  }
 ]
}
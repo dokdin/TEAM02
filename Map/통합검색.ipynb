{
 "cells": [
  {
   "cell_type": "code",
   "execution_count": 1,
   "metadata": {},
   "outputs": [],
   "source": [
    "import pandas as pd\n",
    "import numpy as np\n",
    "import missingno as msno\n",
    "import folium\n",
    "import re\n",
    "import matplotlib\n",
    "import matplotlib.pyplot as plt\n",
    "import seaborn as sns\n",
    "import matplotlib as mpl\n",
    "import warnings\n",
    "warnings.filterwarnings(action = 'ignore')\n",
    "plt.style.use('ggplot')\n",
    "plt.rcParams['font.family'] = 'Malgun Gothic'\n",
    "matplotlib.rcParams['axes.unicode_minus'] = False"
   ]
  },
  {
   "cell_type": "code",
   "execution_count": 2,
   "metadata": {},
   "outputs": [
    {
     "output_type": "stream",
     "name": "stdout",
     "text": [
      "Pandas : 1.1.3\n",
      "Numpy : 1.19.2\n",
      "Matplotlib : 3.3.2\n",
      "Python 3.8.5\n"
     ]
    }
   ],
   "source": [
    "print('Pandas : %s'%(pd.__version__))\n",
    "print('Numpy : %s'%(np.__version__))\n",
    "print('Matplotlib : %s'%(mpl.__version__))\n",
    "!python --version\n"
   ]
  },
  {
   "cell_type": "code",
   "execution_count": 3,
   "metadata": {},
   "outputs": [],
   "source": [
    "Crawling= pd.read_csv('data/장애인 스포츠강좌_자체 크롤링.csv', encoding = 'CP949')"
   ]
  },
  {
   "cell_type": "code",
   "execution_count": 4,
   "metadata": {},
   "outputs": [
    {
     "output_type": "stream",
     "name": "stdout",
     "text": [
      "Shape Of Crawling Data : (1108, 19)\n"
     ]
    },
    {
     "output_type": "execute_result",
     "data": {
      "text/plain": [
       "                     시설명  대표자           연락처     시도  시군구  지도자    시설면적  운동종류  \\\n",
       "0          (사)신나는사상스포츠클럽  유재우   02-319-7330  부산광역시  사상구   1명     1 ㎡  배드민턴   \n",
       "1                (주)꿈자라다  김병식  031-719-1441    경기도  성남시  11명   409 ㎡  기타종목   \n",
       "2  (주)디에스그룹 달서복싱체육관 대곡점   정희준   02-244-7362  대구광역시  달성군   3명  3362 ㎡    복싱   \n",
       "\n",
       "                            장애종류                   강의명             시간  \\\n",
       "0  지체, 시각, 청각/언어, 지적/자폐, 뇌병변, 기타            [12월] 생활체육  14:00 ~ 14:50   \n",
       "1                      지적/자폐, 기타            [12월] 특수체육  13:00 ~ 20:00   \n",
       "2       지체, 시각, 청각/언어, 지적/자폐, 기타  [12월] 신나는 운동 복싱교실 헬스  11:00 ~ 11:00   \n",
       "\n",
       "            요일       강사명                       기간 차량지원  \\\n",
       "0          화,목       소대승  2020.12.01 ~ 2020.12.10  미지원   \n",
       "1  월,화,수,목,금,토       류정국  2020.12.01 ~ 2020.12.10  미지원   \n",
       "2    월,화,수,목,금  정희준,,손예지  2020.12.01 ~ 2020.12.10  미지원   \n",
       "\n",
       "                                        장애 지원시설     수강료          경도         위도  \n",
       "0                 장애인 화장실,장애인용 엘리베이터,장애인전용 주차구역  80,000  128.994875  35.147446  \n",
       "1       장애인 화장실,장애인용 엘리베이터,장애인전용 주차구역,주출입구 단차없음  80,000  127.122609  37.408783  \n",
       "2  장애인전용 주차구역,주출입구 단차없음,시각장애인 편의서비스,청각장애인 편의서비스  80,000  128.511288  35.809193  "
      ],
      "text/html": "<div>\n<style scoped>\n    .dataframe tbody tr th:only-of-type {\n        vertical-align: middle;\n    }\n\n    .dataframe tbody tr th {\n        vertical-align: top;\n    }\n\n    .dataframe thead th {\n        text-align: right;\n    }\n</style>\n<table border=\"1\" class=\"dataframe\">\n  <thead>\n    <tr style=\"text-align: right;\">\n      <th></th>\n      <th>시설명</th>\n      <th>대표자</th>\n      <th>연락처</th>\n      <th>시도</th>\n      <th>시군구</th>\n      <th>지도자</th>\n      <th>시설면적</th>\n      <th>운동종류</th>\n      <th>장애종류</th>\n      <th>강의명</th>\n      <th>시간</th>\n      <th>요일</th>\n      <th>강사명</th>\n      <th>기간</th>\n      <th>차량지원</th>\n      <th>장애 지원시설</th>\n      <th>수강료</th>\n      <th>경도</th>\n      <th>위도</th>\n    </tr>\n  </thead>\n  <tbody>\n    <tr>\n      <th>0</th>\n      <td>(사)신나는사상스포츠클럽</td>\n      <td>유재우</td>\n      <td>02-319-7330</td>\n      <td>부산광역시</td>\n      <td>사상구</td>\n      <td>1명</td>\n      <td>1 ㎡</td>\n      <td>배드민턴</td>\n      <td>지체, 시각, 청각/언어, 지적/자폐, 뇌병변, 기타</td>\n      <td>[12월] 생활체육</td>\n      <td>14:00 ~ 14:50</td>\n      <td>화,목</td>\n      <td>소대승</td>\n      <td>2020.12.01 ~ 2020.12.10</td>\n      <td>미지원</td>\n      <td>장애인 화장실,장애인용 엘리베이터,장애인전용 주차구역</td>\n      <td>80,000</td>\n      <td>128.994875</td>\n      <td>35.147446</td>\n    </tr>\n    <tr>\n      <th>1</th>\n      <td>(주)꿈자라다</td>\n      <td>김병식</td>\n      <td>031-719-1441</td>\n      <td>경기도</td>\n      <td>성남시</td>\n      <td>11명</td>\n      <td>409 ㎡</td>\n      <td>기타종목</td>\n      <td>지적/자폐, 기타</td>\n      <td>[12월] 특수체육</td>\n      <td>13:00 ~ 20:00</td>\n      <td>월,화,수,목,금,토</td>\n      <td>류정국</td>\n      <td>2020.12.01 ~ 2020.12.10</td>\n      <td>미지원</td>\n      <td>장애인 화장실,장애인용 엘리베이터,장애인전용 주차구역,주출입구 단차없음</td>\n      <td>80,000</td>\n      <td>127.122609</td>\n      <td>37.408783</td>\n    </tr>\n    <tr>\n      <th>2</th>\n      <td>(주)디에스그룹 달서복싱체육관 대곡점</td>\n      <td>정희준</td>\n      <td>02-244-7362</td>\n      <td>대구광역시</td>\n      <td>달성군</td>\n      <td>3명</td>\n      <td>3362 ㎡</td>\n      <td>복싱</td>\n      <td>지체, 시각, 청각/언어, 지적/자폐, 기타</td>\n      <td>[12월] 신나는 운동 복싱교실 헬스</td>\n      <td>11:00 ~ 11:00</td>\n      <td>월,화,수,목,금</td>\n      <td>정희준,,손예지</td>\n      <td>2020.12.01 ~ 2020.12.10</td>\n      <td>미지원</td>\n      <td>장애인전용 주차구역,주출입구 단차없음,시각장애인 편의서비스,청각장애인 편의서비스</td>\n      <td>80,000</td>\n      <td>128.511288</td>\n      <td>35.809193</td>\n    </tr>\n  </tbody>\n</table>\n</div>"
     },
     "metadata": {},
     "execution_count": 4
    }
   ],
   "source": [
    "# 데이터의 일부분 살펴보기\n",
    "print('Shape Of Crawling Data :', Crawling.shape)\n",
    "Crawling.head(3)\n"
   ]
  },
  {
   "cell_type": "code",
   "execution_count": 5,
   "metadata": {},
   "outputs": [
    {
     "output_type": "stream",
     "name": "stdout",
     "text": [
      "['부산광역시' '경기도' '대구광역시' '서울특별시' '충청북도' '울산광역시' '강원도' '경상남도' '전라남도' '전남'\n '광주' '서울시' '세종특별자치시' '경기' '북구' '경남' '경상북도' '의성군' '광주광역시' '대전광역시' '경북'\n '충남' '전라북도' '인천광역시' '충청남도' '수원시' '인천시' '충북' '대전시' '제주시' '부산시' '봉화군' '문경시'\n '제주특별자치도' '수성구' '순천시' '양주시' '서울' '영천시' '김천시' '전북' '의정부시' '대구' '경산시' '포항시'\n '강북구' '동래구'] \n\n시도 개수  : 47\n"
     ]
    }
   ],
   "source": [
    "# 시도에 따라 시설을 확인해야 하기에 '시/도' 변수 확인\n",
    "print(Crawling['시도'].unique(), '\\n')\n",
    "print('시도 개수  :', len(Crawling['시도'].unique()))"
   ]
  },
  {
   "source": [
    "각 관측치의 주소가 일정한 형식으로 기입되어 있지 않음을 볼 수 있다.\n",
    "즉, 수정이 필요하다."
   ],
   "cell_type": "markdown",
   "metadata": {}
  },
  {
   "cell_type": "code",
   "execution_count": 6,
   "metadata": {},
   "outputs": [],
   "source": [
    "    # 17개의 시/도 리스트 만들기\n",
    "    부산 = ['부산광역시', '부산시', '동래구']\n",
    "    경기 = ['경기도', '경기', '수원시', '양주시', '의정부시']\n",
    "    대구 = ['대구광역시', '북구', '수성구', '대구']\n",
    "    서울 = ['서울특별시', '서울시', '서울', '강북구']\n",
    "    충북 = ['충청북도', '충북']\n",
    "    충남 = ['충남', '충청남도']\n",
    "    울산 = ['울산광역시']\n",
    "    강원 = ['강원도']\n",
    "    경남 = ['경상남도', '경남']\n",
    "    경북 = ['경상북도', '의성군', '경북', '봉화군', '문경시', '영천시', '김천시', '경산시', '포항시']\n",
    "    전남 = ['전라남도', '전남', '순천시']\n",
    "    전북 = ['전라북도', '전북']\n",
    "    광주 = ['광주', '광주광역시']\n",
    "    세종 = ['세종특별자치시']\n",
    "    대전 = ['대전광역시', '대전시']\n",
    "    인천 = ['인천광역시', '인천시']\n",
    "    제주 = ['제주시', '제주특별자치도']"
   ]
  },
  {
   "cell_type": "code",
   "execution_count": 7,
   "metadata": {},
   "outputs": [],
   "source": [
    "시도_list = [부산, 경기, 대구, 서울, 충북, 충남, 울산, 강원, 경남, 경북, 전남, 전북, 광주, 세종, 대전, 인천, 제주]\n",
    "\n",
    "시도_text_list = ['부산', '경기', '대구', '서울', '충북', '충남', '울산', '강원', '경남', \n",
    "                '경북', '전남', '전북', '광주','세종', '대전', '인천', '제주']\n",
    "\n",
    "# 반복문을 통해 '시/도' 변수 수정하기\n",
    "for value, text in zip(시도_list, 시도_text_list):\n",
    "    Crawling.loc[Crawling['시도'].isin(value), '시도'] = text"
   ]
  },
  {
   "cell_type": "code",
   "execution_count": 8,
   "metadata": {},
   "outputs": [
    {
     "output_type": "stream",
     "name": "stdout",
     "text": [
      "['부산' '경기' '대구' '서울' '충북' '울산' '강원' '경남' '전남' '광주' '세종' '경북' '대전' '충남'\n '전북' '인천' '제주'] \n\n 시도 개수 : 17\n"
     ]
    }
   ],
   "source": [
    "# 변환 후 '시/도' 변수 확인\n",
    "print(Crawling['시도'].unique(), '\\n')\n",
    "print(' 시도 개수 :', len(Crawling['시도'].unique()))"
   ]
  },
  {
   "source": [
    "- 장애종류 변수에는 '지체', '시각', '청각', '언어', '지적', '자폐', '뇌병변', '기타' 총 8개의 유형이 있음을 볼 수 있다.\n",
    "- 데이터에서 콤마(,)와 슬래시(/)로 저장되어 있으므로 각 장애유형을 하나의 변수로 만들어주자.\n",
    "- 또한, 장애 지원시설 변수에도 각 지원시설마다 콤마(,)로 저장되어 있으므로 같은 작업을 해주도록 하자."
   ],
   "cell_type": "markdown",
   "metadata": {}
  },
  {
   "cell_type": "code",
   "execution_count": 9,
   "metadata": {},
   "outputs": [],
   "source": [
    "# 장애종류 변수\n",
    "Crawling['지체'] = 0\n",
    "Crawling['시각'] = 0\n",
    "Crawling['청각'] = 0\n",
    "Crawling['언어'] = 0\n",
    "Crawling['지적'] = 0\n",
    "Crawling['자폐'] = 0\n",
    "Crawling['뇌병변'] = 0\n",
    "Crawling['기타'] = 0\n",
    "\n",
    "for index in range(Crawling.shape[0]):\n",
    "    \n",
    "    # split 함수를 사용해 나눠주기\n",
    "    종류_list = re.split('[,/]', Crawling['장애종류'][index])\n",
    "    \n",
    "#     # 나눈 결과 양쪽 공백이 포함되는 경우도 있으므로 공백 제거\n",
    "    종류_list = [value.strip() for value in 종류_list]\n",
    "    \n",
    "    if '지체' in 종류_list:\n",
    "        Crawling.loc[index, '지체'] = 1\n",
    "\n",
    "    if '시각' in 종류_list:\n",
    "        Crawling.loc[index, '시각'] = 1\n",
    "        \n",
    "    if '청각' in 종류_list:\n",
    "        Crawling.loc[index, '청각'] = 1\n",
    "        \n",
    "    if '언어' in 종류_list:\n",
    "        Crawling.loc[index, '언어'] = 1\n",
    "    \n",
    "    if '지적' in 종류_list:\n",
    "        Crawling.loc[index, '지적'] = 1\n",
    "    \n",
    "    if '자폐' in 종류_list:\n",
    "        Crawling.loc[index, '자폐'] = 1\n",
    "        \n",
    "    if '뇌병변' in 종류_list:\n",
    "        Crawling.loc[index, '뇌병변'] = 1\n",
    "        \n",
    "    if '기타' in 종류_list:\n",
    "        Crawling.loc[index, '기타'] = 1 \n",
    "        \n",
    "# 각 장애종류를 변수로 만든 후 장애종류 변수 삭제\n",
    "Crawling.drop('장애종류', axis = 1, inplace = True)"
   ]
  },
  {
   "cell_type": "code",
   "execution_count": 10,
   "metadata": {},
   "outputs": [],
   "source": [
    "# 지원시설 변수를 변경하기 위한 함수 만들기\n",
    "def 지원시설_extract(data):\n",
    "\n",
    "    # 결측값을 가지지 않는 데이터를 추출하고 그 데이터의 index를 변수로 저장\n",
    "    data1 = data[data['장애 지원시설'].isnull() == False]\n",
    "    data1_list = data1.index\n",
    "    \n",
    "    # 장애 지원시설에 대한 변수 만들어주기\n",
    "    data1['장애인 화장실'] = 0\n",
    "    data1['장애인용 엘리베이터'] = 0\n",
    "    data1['장애인전용 주차구역'] = 0\n",
    "    data1['주출입구 단차없음'] = 0\n",
    "    data1['휠체어 대여'] = 0\n",
    "    data1['시각장애인 편의서비스'] = 0\n",
    "    data1['청각장애인 편의서비스'] = 0\n",
    "    \n",
    "    for index in data1_list:\n",
    "        지원시설_list = data1['장애 지원시설'][index].split(',')\n",
    "        지원시설_list = [value.strip() for value in 지원시설_list]\n",
    "        \n",
    "        if '장애인 화장실' in 지원시설_list:\n",
    "            data1.loc[index, '장애인 화장실'] = 1\n",
    "            \n",
    "        if '장애인용 엘리베이터' in 지원시설_list:\n",
    "            data1.loc[index, '장애인용 엘리베이터'] = 1\n",
    "            \n",
    "        if '장애인전용 주차구역' in 지원시설_list:\n",
    "            data1.loc[index, '장애인전용 주차구역'] = 1\n",
    "            \n",
    "        if '주출입구 단차없음' in 지원시설_list:\n",
    "            data1.loc[index, '장애인전용 주차구역'] = 1\n",
    "            \n",
    "        if '휠체어 대여' in 지원시설_list:\n",
    "            data1.loc[index, '휠체어 대여'] = 1\n",
    "        \n",
    "        if '시각장애인 편의서비스' in 지원시설_list:\n",
    "            data1.loc[index, '시각장애인 편의서비스'] = 1\n",
    "        \n",
    "        if '청각장애인 편의서비스' in 지원시설_list:\n",
    "            data1.loc[index, '청각장애인 편의서비스'] = 1\n",
    "            \n",
    "    data2 = data[data['장애 지원시설'].isnull() == True]\n",
    "    data2_list = data2.index\n",
    "    \n",
    "    # 장애 지원시설에 대한 변수 만들어주기\n",
    "    data2['장애인 화장실'] = 0\n",
    "    data2['장애인용 엘리베이터'] = 0\n",
    "    data2['장애인전용 주차구역'] = 0\n",
    "    data2['주출입구 단차없음'] = 0\n",
    "    data2['휠체어 대여'] = 0\n",
    "    data2['시각장애인 편의서비스'] = 0\n",
    "    data2['청각장애인 편의서비스'] = 0\n",
    "    \n",
    "    for index in data2_list:\n",
    "        data2.loc[index, '장애인 화장실'] = 0\n",
    "        data2.loc[index, '장애인용 엘리베이터'] = 0\n",
    "        data2.loc[index, '장애인전용 주차구역'] = 0\n",
    "        data2.loc[index, '주출입구 단차없음'] = 0\n",
    "        data2.loc[index, '휠체어 대여'] = 0\n",
    "        data2.loc[index, '시각장애인 편의서비스'] = 0\n",
    "        data2.loc[index, '청각장애인 편의서비스'] = 0\n",
    "        \n",
    "    transform_data = pd.concat([data1, data2], ignore_index = True)\n",
    "    \n",
    "    return transform_data"
   ]
  },
  {
   "cell_type": "code",
   "execution_count": 11,
   "metadata": {},
   "outputs": [
    {
     "output_type": "stream",
     "name": "stdout",
     "text": [
      "Shape Of Data *Before Change* : (1108, 26) \n",
      "\n",
      "Shape Of Data *After Change* : (1108, 32)\n"
     ]
    }
   ],
   "source": [
    "print('Shape Of Data *Before Change* :', Crawling.shape, '\\n')\n",
    "Crawling = 지원시설_extract(Crawling)\n",
    "\n",
    "# '장애 지원시설' 변수 삭제하기\n",
    "Crawling = Crawling.drop('장애 지원시설', axis = 1)\n",
    "print('Shape Of Data *After Change* :', Crawling.shape)\n"
   ]
  },
  {
   "source": [
    "- 수강료 변수가 object 타입이고 콤마(,)가 있으므로 제거해주고 숫자형으로 변환해주자."
   ],
   "cell_type": "markdown",
   "metadata": {}
  },
  {
   "cell_type": "code",
   "execution_count": 12,
   "metadata": {},
   "outputs": [],
   "source": [
    "Crawling['수강료'] = pd.to_numeric([re.sub(\",\", \"\", value) for value in Crawling['수강료']])\n"
   ]
  },
  {
   "cell_type": "code",
   "execution_count": 13,
   "metadata": {},
   "outputs": [],
   "source": [
    "def 지도시각화(raw_data):\n",
    "    # 대한민국 중앙을 초기 위치로 설정하여 지도 객체 생성\n",
    "    지도 = folium.Map(location = [36.40886055894505, 127.63462243700751], zoom_start = 8)\n",
    "    print(\"0. 아래 해당되는 시/도를 입력해주세요\\n\"+str(list(Crawling['시도'].unique())))\n",
    "    # 시/도명 입력 받기\n",
    "    시도명 = input('1. 거주하고 계신 시/도명을 입력해주세요 : ')\n",
    "    print()\n",
    "    \n",
    "    # 시군구 입력 받기\n",
    "    시군구_list = raw_data[raw_data['시도'] == 시도명]['시군구'].unique()\n",
    "    print(시군구_list, '\\n')\n",
    "    시군구 = input('2. 위에서 행정구역을 선택해 주세요 : ')\n",
    "    print()\n",
    "    \n",
    "    # 장애종류를 보여주기 위해 장애_list 변수 지정\n",
    "    장애_list = ['지체', '시각', '청각', '언어', '지적', '자폐', '뇌병변', '기타']\n",
    "    print('')\n",
    "    print(장애_list, '\\n')\n",
    "    \n",
    "    # 장애명 입력 받기\n",
    "    장애명 = input('3. 위에서 장애명을 선택해주세요 : ')\n",
    "    print('\\n')\n",
    "    \n",
    "    # 입력한 데이터에서 사용자가 위치해 있는 '시/도'와 사용자의 장애명에 일치하는 데이터를 추출\n",
    "    data = raw_data[(raw_data['시도'] == 시도명) & (raw_data[장애명] == 1) & (raw_data['시군구'] == 시군구)]\n",
    "    \n",
    "    # 추출된 데이터에서 가능한 운동종류를 출력\n",
    "    운동_list = data['운동종류'].unique()\n",
    "    print('위에서 선택한 조건으로 수강가능한 운동은 다음과 같습니다', '\\n')\n",
    "    print(운동_list, '\\n')\n",
    "    \n",
    "    # 운동명 입력 받기\n",
    "    운동명 = input('4. 수강 운동을 선택해주세요 : ')\n",
    "    \n",
    "    # 사용자가 선택한 운동 종목을 추출\n",
    "    data = data[data['운동종류'] == 운동명]\n",
    "    \n",
    "    for index in data.index:\n",
    "        # 추출한 데이터에서 '위도'와 '경도'를 변수로 지정\n",
    "        위도 = data.loc[index, '위도']\n",
    "        경도 = data.loc[index, '경도']\n",
    "        \n",
    "        # 지도시각화를 했을 때 '시설명'과 '수강료'를 볼 수 있도록 변수로 지정\n",
    "        시설명 = data.loc[index, '시설명']\n",
    "        수강료 = data.loc[index, '수강료']\n",
    "        \n",
    "        # [시작] 지도시각화를 했을 때 지원가능한 장애시설이 무엇이 있는지 확인할 수 있도록 해주는 과정\n",
    "        장애지원_list = []\n",
    "        \n",
    "        if data.loc[index, '장애인 화장실'] == 1:\n",
    "            장애지원_list.append('장애인 화장실')\n",
    "            \n",
    "        if data.loc[index, '장애인용 엘리베이터'] == 1:\n",
    "            장애지원_list.append('장애인용 엘리베이터')\n",
    "            \n",
    "        if data.loc[index, '장애인전용 주차구역'] == 1:\n",
    "            장애지원_list.append('장애인전용 주차구역')\n",
    "            \n",
    "        if data.loc[index, '주출입구 단차없음'] == 1:\n",
    "            장애지원_list.append('주출입구 단차없음')\n",
    "            \n",
    "        if data.loc[index, '휠체어 대여'] == 1:\n",
    "            장애지원_list.append('휠체어 대여')\n",
    "            \n",
    "        if data.loc[index, '시각장애인 편의서비스'] == 1:\n",
    "            장애지원_list.append('시각장애인 편의서비스')\n",
    "            \n",
    "        if data.loc[index, '청각장애인 편의서비스'] == 1:\n",
    "            장애지원_list.append('청각장애인 편의서비스')\n",
    "        # [끝] 지도시각화를 했을 때 지원가능한 장애시설이 무엇이 있는지 확인할 수 있도록 해주는 과정\n",
    "        \n",
    "        # tooltip 설정해주는 과정\n",
    "        text_1 = '''시설명 : {} 수강료 : {} 원'''.format(시설명, 수강료)\n",
    "        tooltip = folium.Tooltip(text_1)\n",
    "        \n",
    "        # 차량 지원에 따라 색상 지정\n",
    "        color = 'blue'\n",
    "        \n",
    "        if data.loc[index, '차량지원'] == '미지원':\n",
    "            color = 'red'\n",
    "        \n",
    "        # poput 설정해주는 과정\n",
    "        text_2 = \", \".join(장애지원_list)\n",
    "        \n",
    "        # 지원시설이 없는 경우 오류가 날 수 있기 때문에 따로 지정\n",
    "        if len(장애지원_list) >= 1:\n",
    "            popup = folium.Popup(text_2, max_width = 150)\n",
    "            folium.CircleMarker([위도, 경도], popup = popup, color = color, tooltip = tooltip, radius = 8).add_to(지도)\n",
    "            \n",
    "        else:\n",
    "            folium.CircleMarker([위도, 경도], popup = '지원시설 없습니다.', color = color, tooltip = tooltip, radius = 8).add_to(지도)\n",
    "        \n",
    "    return 지도"
   ]
  },
  {
   "cell_type": "code",
   "execution_count": 14,
   "metadata": {},
   "outputs": [
    {
     "output_type": "stream",
     "name": "stdout",
     "text": [
      "0. 아래 해당되는 시/도를 입력해주세요\n",
      "['부산', '경기', '대구', '서울', '울산', '강원', '경남', '세종', '충북', '전남', '경북', '광주', '충남', '인천', '전북', '대전', '제주']\n",
      "\n",
      "['성남시' '광주시' '평택시' '의정부시' '고양시' '구리시' '수원시' '팔달구' '화성시' '남양주시' '시흥시' '안산시'\n",
      " '부천시' '의왕시' '안양시' '김포시' '광명시' '용인시' '안성시' '은현면' '양주시' '과천시' '하남시' '금신로'\n",
      " '신흥로173' '권선구' '연천군' '파주시' '군포시' '가평군' '포천시'] \n",
      "\n",
      "\n",
      "\n",
      "['지체', '시각', '청각', '언어', '지적', '자폐', '뇌병변', '기타'] \n",
      "\n",
      "\n",
      "\n",
      "위에서 선택한 조건으로 수강가능한 운동은 다음과 같습니다 \n",
      "\n",
      "['태권도' '요가'] \n",
      "\n"
     ]
    },
    {
     "output_type": "execute_result",
     "data": {
      "text/plain": [
       "<folium.folium.Map at 0x1ce9e027250>"
      ],
      "text/html": "<div style=\"width:100%;\"><div style=\"position:relative;width:100%;height:0;padding-bottom:60%;\"><span style=\"color:#565656\">Make this Notebook Trusted to load map: File -> Trust Notebook</span><iframe src=\"about:blank\" style=\"position:absolute;width:100%;height:100%;left:0;top:0;border:none !important;\" data-html=%3C%21DOCTYPE%20html%3E%0A%3Chead%3E%20%20%20%20%0A%20%20%20%20%3Cmeta%20http-equiv%3D%22content-type%22%20content%3D%22text/html%3B%20charset%3DUTF-8%22%20/%3E%0A%20%20%20%20%0A%20%20%20%20%20%20%20%20%3Cscript%3E%0A%20%20%20%20%20%20%20%20%20%20%20%20L_NO_TOUCH%20%3D%20false%3B%0A%20%20%20%20%20%20%20%20%20%20%20%20L_DISABLE_3D%20%3D%20false%3B%0A%20%20%20%20%20%20%20%20%3C/script%3E%0A%20%20%20%20%0A%20%20%20%20%3Cscript%20src%3D%22https%3A//cdn.jsdelivr.net/npm/leaflet%401.6.0/dist/leaflet.js%22%3E%3C/script%3E%0A%20%20%20%20%3Cscript%20src%3D%22https%3A//code.jquery.com/jquery-1.12.4.min.js%22%3E%3C/script%3E%0A%20%20%20%20%3Cscript%20src%3D%22https%3A//maxcdn.bootstrapcdn.com/bootstrap/3.2.0/js/bootstrap.min.js%22%3E%3C/script%3E%0A%20%20%20%20%3Cscript%20src%3D%22https%3A//cdnjs.cloudflare.com/ajax/libs/Leaflet.awesome-markers/2.0.2/leaflet.awesome-markers.js%22%3E%3C/script%3E%0A%20%20%20%20%3Clink%20rel%3D%22stylesheet%22%20href%3D%22https%3A//cdn.jsdelivr.net/npm/leaflet%401.6.0/dist/leaflet.css%22/%3E%0A%20%20%20%20%3Clink%20rel%3D%22stylesheet%22%20href%3D%22https%3A//maxcdn.bootstrapcdn.com/bootstrap/3.2.0/css/bootstrap.min.css%22/%3E%0A%20%20%20%20%3Clink%20rel%3D%22stylesheet%22%20href%3D%22https%3A//maxcdn.bootstrapcdn.com/bootstrap/3.2.0/css/bootstrap-theme.min.css%22/%3E%0A%20%20%20%20%3Clink%20rel%3D%22stylesheet%22%20href%3D%22https%3A//maxcdn.bootstrapcdn.com/font-awesome/4.6.3/css/font-awesome.min.css%22/%3E%0A%20%20%20%20%3Clink%20rel%3D%22stylesheet%22%20href%3D%22https%3A//cdnjs.cloudflare.com/ajax/libs/Leaflet.awesome-markers/2.0.2/leaflet.awesome-markers.css%22/%3E%0A%20%20%20%20%3Clink%20rel%3D%22stylesheet%22%20href%3D%22https%3A//rawcdn.githack.com/python-visualization/folium/master/folium/templates/leaflet.awesome.rotate.css%22/%3E%0A%20%20%20%20%3Cstyle%3Ehtml%2C%20body%20%7Bwidth%3A%20100%25%3Bheight%3A%20100%25%3Bmargin%3A%200%3Bpadding%3A%200%3B%7D%3C/style%3E%0A%20%20%20%20%3Cstyle%3E%23map%20%7Bposition%3Aabsolute%3Btop%3A0%3Bbottom%3A0%3Bright%3A0%3Bleft%3A0%3B%7D%3C/style%3E%0A%20%20%20%20%0A%20%20%20%20%20%20%20%20%20%20%20%20%3Cmeta%20name%3D%22viewport%22%20content%3D%22width%3Ddevice-width%2C%0A%20%20%20%20%20%20%20%20%20%20%20%20%20%20%20%20initial-scale%3D1.0%2C%20maximum-scale%3D1.0%2C%20user-scalable%3Dno%22%20/%3E%0A%20%20%20%20%20%20%20%20%20%20%20%20%3Cstyle%3E%0A%20%20%20%20%20%20%20%20%20%20%20%20%20%20%20%20%23map_aee6d3bf4d7446ca9b502664966791a9%20%7B%0A%20%20%20%20%20%20%20%20%20%20%20%20%20%20%20%20%20%20%20%20position%3A%20relative%3B%0A%20%20%20%20%20%20%20%20%20%20%20%20%20%20%20%20%20%20%20%20width%3A%20100.0%25%3B%0A%20%20%20%20%20%20%20%20%20%20%20%20%20%20%20%20%20%20%20%20height%3A%20100.0%25%3B%0A%20%20%20%20%20%20%20%20%20%20%20%20%20%20%20%20%20%20%20%20left%3A%200.0%25%3B%0A%20%20%20%20%20%20%20%20%20%20%20%20%20%20%20%20%20%20%20%20top%3A%200.0%25%3B%0A%20%20%20%20%20%20%20%20%20%20%20%20%20%20%20%20%7D%0A%20%20%20%20%20%20%20%20%20%20%20%20%3C/style%3E%0A%20%20%20%20%20%20%20%20%0A%3C/head%3E%0A%3Cbody%3E%20%20%20%20%0A%20%20%20%20%0A%20%20%20%20%20%20%20%20%20%20%20%20%3Cdiv%20class%3D%22folium-map%22%20id%3D%22map_aee6d3bf4d7446ca9b502664966791a9%22%20%3E%3C/div%3E%0A%20%20%20%20%20%20%20%20%0A%3C/body%3E%0A%3Cscript%3E%20%20%20%20%0A%20%20%20%20%0A%20%20%20%20%20%20%20%20%20%20%20%20var%20map_aee6d3bf4d7446ca9b502664966791a9%20%3D%20L.map%28%0A%20%20%20%20%20%20%20%20%20%20%20%20%20%20%20%20%22map_aee6d3bf4d7446ca9b502664966791a9%22%2C%0A%20%20%20%20%20%20%20%20%20%20%20%20%20%20%20%20%7B%0A%20%20%20%20%20%20%20%20%20%20%20%20%20%20%20%20%20%20%20%20center%3A%20%5B36.40886055894505%2C%20127.63462243700751%5D%2C%0A%20%20%20%20%20%20%20%20%20%20%20%20%20%20%20%20%20%20%20%20crs%3A%20L.CRS.EPSG3857%2C%0A%20%20%20%20%20%20%20%20%20%20%20%20%20%20%20%20%20%20%20%20zoom%3A%208%2C%0A%20%20%20%20%20%20%20%20%20%20%20%20%20%20%20%20%20%20%20%20zoomControl%3A%20true%2C%0A%20%20%20%20%20%20%20%20%20%20%20%20%20%20%20%20%20%20%20%20preferCanvas%3A%20false%2C%0A%20%20%20%20%20%20%20%20%20%20%20%20%20%20%20%20%7D%0A%20%20%20%20%20%20%20%20%20%20%20%20%29%3B%0A%0A%20%20%20%20%20%20%20%20%20%20%20%20%0A%0A%20%20%20%20%20%20%20%20%0A%20%20%20%20%0A%20%20%20%20%20%20%20%20%20%20%20%20var%20tile_layer_72a92101a8aa492abd7a71c44b0d564b%20%3D%20L.tileLayer%28%0A%20%20%20%20%20%20%20%20%20%20%20%20%20%20%20%20%22https%3A//%7Bs%7D.tile.openstreetmap.org/%7Bz%7D/%7Bx%7D/%7By%7D.png%22%2C%0A%20%20%20%20%20%20%20%20%20%20%20%20%20%20%20%20%7B%22attribution%22%3A%20%22Data%20by%20%5Cu0026copy%3B%20%5Cu003ca%20href%3D%5C%22http%3A//openstreetmap.org%5C%22%5Cu003eOpenStreetMap%5Cu003c/a%5Cu003e%2C%20under%20%5Cu003ca%20href%3D%5C%22http%3A//www.openstreetmap.org/copyright%5C%22%5Cu003eODbL%5Cu003c/a%5Cu003e.%22%2C%20%22detectRetina%22%3A%20false%2C%20%22maxNativeZoom%22%3A%2018%2C%20%22maxZoom%22%3A%2018%2C%20%22minZoom%22%3A%200%2C%20%22noWrap%22%3A%20false%2C%20%22opacity%22%3A%201%2C%20%22subdomains%22%3A%20%22abc%22%2C%20%22tms%22%3A%20false%7D%0A%20%20%20%20%20%20%20%20%20%20%20%20%29.addTo%28map_aee6d3bf4d7446ca9b502664966791a9%29%3B%0A%20%20%20%20%20%20%20%20%0A%20%20%20%20%0A%20%20%20%20%20%20%20%20%20%20%20%20var%20circle_marker_96eddd72478f4a02882507830daddd5e%20%3D%20L.circleMarker%28%0A%20%20%20%20%20%20%20%20%20%20%20%20%20%20%20%20%5B37.72850069%2C%20127.0460614%5D%2C%0A%20%20%20%20%20%20%20%20%20%20%20%20%20%20%20%20%7B%22bubblingMouseEvents%22%3A%20true%2C%20%22color%22%3A%20%22blue%22%2C%20%22dashArray%22%3A%20null%2C%20%22dashOffset%22%3A%20null%2C%20%22fill%22%3A%20false%2C%20%22fillColor%22%3A%20%22blue%22%2C%20%22fillOpacity%22%3A%200.2%2C%20%22fillRule%22%3A%20%22evenodd%22%2C%20%22lineCap%22%3A%20%22round%22%2C%20%22lineJoin%22%3A%20%22round%22%2C%20%22opacity%22%3A%201.0%2C%20%22radius%22%3A%208%2C%20%22stroke%22%3A%20true%2C%20%22weight%22%3A%203%7D%0A%20%20%20%20%20%20%20%20%20%20%20%20%29.addTo%28map_aee6d3bf4d7446ca9b502664966791a9%29%3B%0A%20%20%20%20%20%20%20%20%0A%20%20%20%20%0A%20%20%20%20%20%20%20%20var%20popup_04efec4ff501408ca4331413fbd10a59%20%3D%20L.popup%28%7B%22maxWidth%22%3A%20150%7D%29%3B%0A%0A%20%20%20%20%20%20%20%20%0A%20%20%20%20%20%20%20%20%20%20%20%20var%20html_770fedefb1da42f984caeafe2abd6375%20%3D%20%24%28%60%3Cdiv%20id%3D%22html_770fedefb1da42f984caeafe2abd6375%22%20style%3D%22width%3A%20100.0%25%3B%20height%3A%20100.0%25%3B%22%3E%EC%9E%A5%EC%95%A0%EC%9D%B8%EC%A0%84%EC%9A%A9%20%EC%A3%BC%EC%B0%A8%EA%B5%AC%EC%97%AD%3C/div%3E%60%29%5B0%5D%3B%0A%20%20%20%20%20%20%20%20%20%20%20%20popup_04efec4ff501408ca4331413fbd10a59.setContent%28html_770fedefb1da42f984caeafe2abd6375%29%3B%0A%20%20%20%20%20%20%20%20%0A%0A%20%20%20%20%20%20%20%20circle_marker_96eddd72478f4a02882507830daddd5e.bindPopup%28popup_04efec4ff501408ca4331413fbd10a59%29%0A%20%20%20%20%20%20%20%20%3B%0A%0A%20%20%20%20%20%20%20%20%0A%20%20%20%20%0A%20%20%20%20%0A%20%20%20%20%20%20%20%20%20%20%20%20circle_marker_96eddd72478f4a02882507830daddd5e.bindTooltip%28%0A%20%20%20%20%20%20%20%20%20%20%20%20%20%20%20%20%60%3Cdiv%3E%0A%20%20%20%20%20%20%20%20%20%20%20%20%20%20%20%20%20%20%20%20%20%EC%8B%9C%EC%84%A4%EB%AA%85%20%3A%20%EA%B2%BD%ED%9D%AC%EB%8C%80%EB%8C%80%ED%95%9C%EB%AF%BC%EA%B5%AD%ED%83%9C%EA%B6%8C%EB%8F%84%20%EC%88%98%EA%B0%95%EB%A3%8C%20%3A%20130000%20%EC%9B%90%0A%20%20%20%20%20%20%20%20%20%20%20%20%20%20%20%20%20%3C/div%3E%60%2C%0A%20%20%20%20%20%20%20%20%20%20%20%20%20%20%20%20%7B%22sticky%22%3A%20true%7D%0A%20%20%20%20%20%20%20%20%20%20%20%20%29%3B%0A%20%20%20%20%20%20%20%20%0A%20%20%20%20%0A%20%20%20%20%20%20%20%20%20%20%20%20var%20circle_marker_4401797ca4934faf980b65c1e3d971fc%20%3D%20L.circleMarker%28%0A%20%20%20%20%20%20%20%20%20%20%20%20%20%20%20%20%5B37.73505805%2C%20127.09075370000001%5D%2C%0A%20%20%20%20%20%20%20%20%20%20%20%20%20%20%20%20%7B%22bubblingMouseEvents%22%3A%20true%2C%20%22color%22%3A%20%22blue%22%2C%20%22dashArray%22%3A%20null%2C%20%22dashOffset%22%3A%20null%2C%20%22fill%22%3A%20false%2C%20%22fillColor%22%3A%20%22blue%22%2C%20%22fillOpacity%22%3A%200.2%2C%20%22fillRule%22%3A%20%22evenodd%22%2C%20%22lineCap%22%3A%20%22round%22%2C%20%22lineJoin%22%3A%20%22round%22%2C%20%22opacity%22%3A%201.0%2C%20%22radius%22%3A%208%2C%20%22stroke%22%3A%20true%2C%20%22weight%22%3A%203%7D%0A%20%20%20%20%20%20%20%20%20%20%20%20%29.addTo%28map_aee6d3bf4d7446ca9b502664966791a9%29%3B%0A%20%20%20%20%20%20%20%20%0A%20%20%20%20%0A%20%20%20%20%20%20%20%20var%20popup_547d05f865bc4f11bf029045de7a638f%20%3D%20L.popup%28%7B%22maxWidth%22%3A%20%22100%25%22%7D%29%3B%0A%0A%20%20%20%20%20%20%20%20%0A%20%20%20%20%20%20%20%20%20%20%20%20var%20html_4e837b41b5444ae7a98df8395407f878%20%3D%20%24%28%60%3Cdiv%20id%3D%22html_4e837b41b5444ae7a98df8395407f878%22%20style%3D%22width%3A%20100.0%25%3B%20height%3A%20100.0%25%3B%22%3E%EC%A7%80%EC%9B%90%EC%8B%9C%EC%84%A4%20%EC%97%86%EC%8A%B5%EB%8B%88%EB%8B%A4.%3C/div%3E%60%29%5B0%5D%3B%0A%20%20%20%20%20%20%20%20%20%20%20%20popup_547d05f865bc4f11bf029045de7a638f.setContent%28html_4e837b41b5444ae7a98df8395407f878%29%3B%0A%20%20%20%20%20%20%20%20%0A%0A%20%20%20%20%20%20%20%20circle_marker_4401797ca4934faf980b65c1e3d971fc.bindPopup%28popup_547d05f865bc4f11bf029045de7a638f%29%0A%20%20%20%20%20%20%20%20%3B%0A%0A%20%20%20%20%20%20%20%20%0A%20%20%20%20%0A%20%20%20%20%0A%20%20%20%20%20%20%20%20%20%20%20%20circle_marker_4401797ca4934faf980b65c1e3d971fc.bindTooltip%28%0A%20%20%20%20%20%20%20%20%20%20%20%20%20%20%20%20%60%3Cdiv%3E%0A%20%20%20%20%20%20%20%20%20%20%20%20%20%20%20%20%20%20%20%20%20%EC%8B%9C%EC%84%A4%EB%AA%85%20%3A%20%EB%AF%BC%EB%9D%BD%EA%B2%BD%EA%B8%B0%ED%83%9C%EA%B6%8C%EB%8F%84%EC%9E%A5%20%EC%88%98%EA%B0%95%EB%A3%8C%20%3A%20130000%20%EC%9B%90%0A%20%20%20%20%20%20%20%20%20%20%20%20%20%20%20%20%20%3C/div%3E%60%2C%0A%20%20%20%20%20%20%20%20%20%20%20%20%20%20%20%20%7B%22sticky%22%3A%20true%7D%0A%20%20%20%20%20%20%20%20%20%20%20%20%29%3B%0A%20%20%20%20%20%20%20%20%0A%20%20%20%20%0A%20%20%20%20%20%20%20%20%20%20%20%20var%20circle_marker_6261b5b8ad5549588787e7c7f1e0a444%20%3D%20L.circleMarker%28%0A%20%20%20%20%20%20%20%20%20%20%20%20%20%20%20%20%5B37.74332947%2C%20127.06176200000002%5D%2C%0A%20%20%20%20%20%20%20%20%20%20%20%20%20%20%20%20%7B%22bubblingMouseEvents%22%3A%20true%2C%20%22color%22%3A%20%22blue%22%2C%20%22dashArray%22%3A%20null%2C%20%22dashOffset%22%3A%20null%2C%20%22fill%22%3A%20false%2C%20%22fillColor%22%3A%20%22blue%22%2C%20%22fillOpacity%22%3A%200.2%2C%20%22fillRule%22%3A%20%22evenodd%22%2C%20%22lineCap%22%3A%20%22round%22%2C%20%22lineJoin%22%3A%20%22round%22%2C%20%22opacity%22%3A%201.0%2C%20%22radius%22%3A%208%2C%20%22stroke%22%3A%20true%2C%20%22weight%22%3A%203%7D%0A%20%20%20%20%20%20%20%20%20%20%20%20%29.addTo%28map_aee6d3bf4d7446ca9b502664966791a9%29%3B%0A%20%20%20%20%20%20%20%20%0A%20%20%20%20%0A%20%20%20%20%20%20%20%20var%20popup_4f1a0a6057af46809ce35994395172ed%20%3D%20L.popup%28%7B%22maxWidth%22%3A%20%22100%25%22%7D%29%3B%0A%0A%20%20%20%20%20%20%20%20%0A%20%20%20%20%20%20%20%20%20%20%20%20var%20html_dfa5071b0d744af9afa3f30037cdbb2b%20%3D%20%24%28%60%3Cdiv%20id%3D%22html_dfa5071b0d744af9afa3f30037cdbb2b%22%20style%3D%22width%3A%20100.0%25%3B%20height%3A%20100.0%25%3B%22%3E%EC%A7%80%EC%9B%90%EC%8B%9C%EC%84%A4%20%EC%97%86%EC%8A%B5%EB%8B%88%EB%8B%A4.%3C/div%3E%60%29%5B0%5D%3B%0A%20%20%20%20%20%20%20%20%20%20%20%20popup_4f1a0a6057af46809ce35994395172ed.setContent%28html_dfa5071b0d744af9afa3f30037cdbb2b%29%3B%0A%20%20%20%20%20%20%20%20%0A%0A%20%20%20%20%20%20%20%20circle_marker_6261b5b8ad5549588787e7c7f1e0a444.bindPopup%28popup_4f1a0a6057af46809ce35994395172ed%29%0A%20%20%20%20%20%20%20%20%3B%0A%0A%20%20%20%20%20%20%20%20%0A%20%20%20%20%0A%20%20%20%20%0A%20%20%20%20%20%20%20%20%20%20%20%20circle_marker_6261b5b8ad5549588787e7c7f1e0a444.bindTooltip%28%0A%20%20%20%20%20%20%20%20%20%20%20%20%20%20%20%20%60%3Cdiv%3E%0A%20%20%20%20%20%20%20%20%20%20%20%20%20%20%20%20%20%20%20%20%20%EC%8B%9C%EC%84%A4%EB%AA%85%20%3A%20%EC%8B%A0%EA%B3%A1%EC%B5%9C%EA%B0%95%ED%83%9C%EA%B6%8C%EB%8F%84%20%EC%88%98%EA%B0%95%EB%A3%8C%20%3A%20130000%20%EC%9B%90%0A%20%20%20%20%20%20%20%20%20%20%20%20%20%20%20%20%20%3C/div%3E%60%2C%0A%20%20%20%20%20%20%20%20%20%20%20%20%20%20%20%20%7B%22sticky%22%3A%20true%7D%0A%20%20%20%20%20%20%20%20%20%20%20%20%29%3B%0A%20%20%20%20%20%20%20%20%0A%3C/script%3E onload=\"this.contentDocument.open();this.contentDocument.write(    decodeURIComponent(this.getAttribute('data-html')));this.contentDocument.close();\" allowfullscreen webkitallowfullscreen mozallowfullscreen></iframe></div></div>"
     },
     "metadata": {},
     "execution_count": 14
    }
   ],
   "source": [
    "# 경기도 => 의정부시 => 지체 => 태권도 지도 시각화\n",
    "지도시각화(Crawling)"
   ]
  }
 ],
 "metadata": {
  "kernelspec": {
   "display_name": "Python 3",
   "language": "python",
   "name": "python3"
  },
  "language_info": {
   "codemirror_mode": {
    "name": "ipython",
    "version": 3
   },
   "file_extension": ".py",
   "mimetype": "text/x-python",
   "name": "python",
   "nbconvert_exporter": "python",
   "pygments_lexer": "ipython3",
   "version": "3.8.5-final"
  }
 },
 "nbformat": 4,
 "nbformat_minor": 2
}